{
 "cells": [
  {
   "cell_type": "code",
   "execution_count": 9,
   "metadata": {},
   "outputs": [
    {
     "name": "stdout",
     "output_type": "stream",
     "text": [
      "[10, 20, -25, 100, -5, 120]\n"
     ]
    },
    {
     "data": {
      "text/plain": [
       "[120, 100, -25, 20, 10, -5]"
      ]
     },
     "execution_count": 9,
     "metadata": {},
     "output_type": "execute_result"
    }
   ],
   "source": [
    "#lambda的应用\n",
    "l = [10,20,-25,100,-5,120]\n",
    "print(l)\n",
    "#sorted函数支持三个参数，key定义用来比较的函数名字\n",
    "sorted(l,key = lambda x : abs(x), reverse = True)\n"
   ]
  },
  {
   "cell_type": "code",
   "execution_count": 16,
   "metadata": {
    "scrolled": true
   },
   "outputs": [
    {
     "data": {
      "text/plain": [
       "12"
      ]
     },
     "execution_count": 16,
     "metadata": {},
     "output_type": "execute_result"
    }
   ],
   "source": [
    "#lambda闭包\n",
    "def add(n):\n",
    "    return lambda x : x + n\n",
    "\n",
    "add_10 = add(10)\n",
    "add_10(2)"
   ]
  },
  {
   "cell_type": "code",
   "execution_count": 30,
   "metadata": {},
   "outputs": [
    {
     "name": "stdout",
     "output_type": "stream",
     "text": [
      "Good night!\n",
      "Good night!\n",
      "Good night!\n"
     ]
    }
   ],
   "source": [
    "#将函数作为参数\n",
    "def sayNight():\n",
    "    print('Good night!')\n",
    "    \n",
    "def sayNTimes(func, N):\n",
    "    for i in range(N):\n",
    "        func()\n",
    "#重要的事情说三遍\n",
    "sayNTimes(sayNight,3)"
   ]
  },
  {
   "cell_type": "code",
   "execution_count": 4,
   "metadata": {},
   "outputs": [
    {
     "name": "stdout",
     "output_type": "stream",
     "text": [
      "10\n",
      "20\n"
     ]
    }
   ],
   "source": [
    "#再看一下闭包\n",
    "a = 10\n",
    "def get_a():\n",
    "    return a;\n",
    "print(get_a())\n",
    "a=20\n",
    "print(get_a())\n"
   ]
  },
  {
   "cell_type": "code",
   "execution_count": 2,
   "metadata": {},
   "outputs": [
    {
     "name": "stdout",
     "output_type": "stream",
     "text": [
      "in foo()\n",
      "used: 0.00010292476523843241\n",
      "in xoo()\n"
     ]
    }
   ],
   "source": [
    "#装饰器\n",
    "\n",
    "import time  \n",
    "   \n",
    "def timeit(func):  \n",
    "    def wrapper():  \n",
    "        start = time.clock()  \n",
    "        func()  \n",
    "        end =time.clock()  \n",
    "        print('{} {}'.format('used:', end - start))  \n",
    "    return wrapper  \n",
    "   \n",
    "@timeit  \n",
    "def foo():  \n",
    "    print('in foo()')\n",
    "\n",
    "def xoo():\n",
    "    print('in xoo()')\n",
    "foo()  \n",
    "xoo()"
   ]
  }
 ],
 "metadata": {
  "kernelspec": {
   "display_name": "Python 3",
   "language": "python",
   "name": "python3"
  },
  "language_info": {
   "codemirror_mode": {
    "name": "ipython",
    "version": 3
   },
   "file_extension": ".py",
   "mimetype": "text/x-python",
   "name": "python",
   "nbconvert_exporter": "python",
   "pygments_lexer": "ipython3",
   "version": "3.6.3"
  }
 },
 "nbformat": 4,
 "nbformat_minor": 2
}
