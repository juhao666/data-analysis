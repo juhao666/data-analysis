{
 "cells": [
  {
   "cell_type": "code",
   "execution_count": 37,
   "metadata": {},
   "outputs": [],
   "source": [
    "import urllib.request as urlrequest\n",
    "from bs4 import BeautifulSoup\n",
    "\n",
    "top250_url = \"https://movie.douban.com/top250?start={}&filter=\"\n",
    "with open('data/douban_movie_top250.txt','w') as outputfile:\n",
    "    for i in range(10):\n",
    "        start = i*25\n",
    "        url_visit = top250_url.format(start)\n",
    "        crawl_context = urlrequest.urlopen(url_visit).read()\n",
    "        html_context = crawl_context.decode('utf-8')\n",
    "        soup = BeautifulSoup(html_context,'html.parser')\n",
    "        #print(soup.prettify())\n",
    "        all_item_divs = soup.find_all(class_='item')\n",
    "        for each_item_div in all_item_divs:\n",
    "            pic_div = each_item_div.find(class_='pic')\n",
    "            item_href = pic_div.find('a')['href']\n",
    "            item_name = pic_div.find('img')['alt']\n",
    "            star_div = each_item_div.find(class_='star')\n",
    "            avg = star_div.find_all(class_='rating_num')[0].get_text()\n",
    "            outputfile.write('{} \\t{:20}\\t{} \\n'.format(item_href,item_name,avg))\n",
    "\n",
    "            #print('{} \\t{:20}\\t{}'.format(item_href,item_name,avg))\n",
    "    \n",
    "    \n",
    "\n"
   ]
  }
 ],
 "metadata": {
  "kernelspec": {
   "display_name": "Python 3",
   "language": "python",
   "name": "python3"
  },
  "language_info": {
   "codemirror_mode": {
    "name": "ipython",
    "version": 3
   },
   "file_extension": ".py",
   "mimetype": "text/x-python",
   "name": "python",
   "nbconvert_exporter": "python",
   "pygments_lexer": "ipython3",
   "version": "3.6.3"
  }
 },
 "nbformat": 4,
 "nbformat_minor": 2
}
