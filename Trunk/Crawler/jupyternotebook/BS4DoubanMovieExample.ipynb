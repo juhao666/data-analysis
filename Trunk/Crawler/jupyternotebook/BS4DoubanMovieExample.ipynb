{
 "cells": [
  {
   "cell_type": "code",
   "execution_count": 1,
   "metadata": {},
   "outputs": [
    {
     "name": "stdout",
     "output_type": "stream",
     "text": [
      "摔跤吧！爸爸 Dangal 9.1\n"
     ]
    }
   ],
   "source": [
    "from bs4 import BeautifulSoup\n",
    "import urllib.request as urlrequest\n",
    "url = 'https://movie.douban.com/subject/26387939/'\n",
    "web_page = urlrequest.urlopen(url).read()\n",
    "soup = BeautifulSoup(web_page,'html.parser')\n",
    "name = soup.h1.find(property='v:itemreviewed').string\n",
    "avg = soup.find_all(class_='ll rating_num')[0].get_text()\n",
    "print('{} {}'.format(name,avg))"
   ]
  },
  {
   "cell_type": "code",
   "execution_count": null,
   "metadata": {
    "collapsed": true
   },
   "outputs": [],
   "source": []
  }
 ],
 "metadata": {
  "kernelspec": {
   "display_name": "Python 3",
   "language": "python",
   "name": "python3"
  },
  "language_info": {
   "codemirror_mode": {
    "name": "ipython",
    "version": 3
   },
   "file_extension": ".py",
   "mimetype": "text/x-python",
   "name": "python",
   "nbconvert_exporter": "python",
   "pygments_lexer": "ipython3",
   "version": "3.6.3"
  }
 },
 "nbformat": 4,
 "nbformat_minor": 2
}
