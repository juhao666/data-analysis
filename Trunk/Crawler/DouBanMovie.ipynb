{
 "cells": [
  {
   "cell_type": "code",
   "execution_count": 5,
   "metadata": {
    "collapsed": true,
    "scrolled": true
   },
   "outputs": [],
   "source": [
    "import urllib.request as urlrequest\n",
    "import json\n",
    "\n",
    "id_list = [26387939,11803087,20451290]\n",
    "\n",
    "with open('movie_score.txt','w') as output:\n",
    "    for id in id_list:\n",
    "        url = 'https://api.douban.com/v2/movie/{}'.format(id)\n",
    "        crawl_context = urlrequest.urlopen(url).read()\n",
    "        #movie = crawl_context.decode('unicode-escape')\n",
    "        movie = crawl_context.decode('utf-8')\n",
    "        json_context = json.loads(movie,encoding='utf-8')\n",
    "        avg = json_context['rating']['average']\n",
    "        name = json_context['alt_title']\n",
    "        #print(name)\n",
    "        output.write('{} {} {}\\n'.format(id,name,avg))"
   ]
  },
  {
   "cell_type": "code",
   "execution_count": null,
   "metadata": {
    "collapsed": true
   },
   "outputs": [],
   "source": []
  },
  {
   "cell_type": "code",
   "execution_count": 12,
   "metadata": {
    "collapsed": true
   },
   "outputs": [],
   "source": [
    "import json\n",
    "json_context = json.loads(crawl_context.decode('utf-8'))\n",
    "avg = json_context['rating']['average']\n",
    "id = 26387939"
   ]
  },
  {
   "cell_type": "code",
   "execution_count": 13,
   "metadata": {
    "collapsed": true
   },
   "outputs": [],
   "source": [
    "with open('movie_score.txt','a') as output:\n",
    "    output.write('{} {}\\n'.format(id,avg))\n",
    "    "
   ]
  },
  {
   "cell_type": "code",
   "execution_count": 3,
   "metadata": {},
   "outputs": [
    {
     "name": "stdout",
     "output_type": "stream",
     "text": [
      "{\"insun\": \"\\u6cf0\\u56e7 / \\u4eba\\u5728\\u56e7\\u90142 / Lost in Thailand \"}\n"
     ]
    }
   ],
   "source": [
    "import json\n",
    "js = json.loads('{\"insun\": \"泰囧 / 人在囧途2 / Lost in Thailand \"}')\n",
    "print(json.dumps(js))\n"
   ]
  }
 ],
 "metadata": {
  "kernelspec": {
   "display_name": "Python 3",
   "language": "python",
   "name": "python3"
  },
  "language_info": {
   "codemirror_mode": {
    "name": "ipython",
    "version": 3
   },
   "file_extension": ".py",
   "mimetype": "text/x-python",
   "name": "python",
   "nbconvert_exporter": "python",
   "pygments_lexer": "ipython3",
   "version": "3.6.3"
  }
 },
 "nbformat": 4,
 "nbformat_minor": 2
}
