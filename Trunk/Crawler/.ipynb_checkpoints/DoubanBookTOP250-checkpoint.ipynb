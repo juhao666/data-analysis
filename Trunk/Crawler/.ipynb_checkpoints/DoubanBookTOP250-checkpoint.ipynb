{
 "cells": [
  {
   "cell_type": "code",
   "execution_count": 25,
   "metadata": {},
   "outputs": [],
   "source": [
    "import urllib.request as urlrequest\n",
    "from bs4 import BeautifulSoup\n",
    "\n",
    "\n",
    "top250_url = \"https://book.douban.com/top250?start={}\"\n",
    "with open('data/douban_book_top250.txt','w') as outputfile:\n",
    "    for i in range(10):\n",
    "        start = i * 25\n",
    "        visit_url = top250_url.format(start)\n",
    "        crawl_context = urlrequest.urlopen(visit_url).read()\n",
    "        html_context = crawl_context.decode('utf-8')\n",
    "        soup = BeautifulSoup(html_context,'html.parser')\n",
    "        all_item_divs = soup.find_all(class_='item')\n",
    "        for each_item_div in all_item_divs:\n",
    "            name_div = each_item_div.find(class_='pl2')\n",
    "            book_link = name_div.find('a')['href']\n",
    "            book_title = name_div.find('a')['title']\n",
    "            rating_div = each_item_div.find(class_='star clearfix')\n",
    "            book_rating = rating_div.find(class_='rating_nums').string\n",
    "            evaluation = '' if each_item_div.find(class_='inq') is None else each_item_div.find(class_='inq').get_text()\n",
    "            outputfile.write('{}\\t{:20}\\t {:3}\\t {}\\n'.format(book_link,book_title,book_rating,evaluation))\n",
    "            #print(each_item_div.prettify())\n",
    "            #book_link = name_div.find('a')['href']\n",
    "\n",
    " \n",
    "    \n",
    "\n",
    "    \n",
    "\n"
   ]
  }
 ],
 "metadata": {
  "kernelspec": {
   "display_name": "Python 3",
   "language": "python",
   "name": "python3"
  },
  "language_info": {
   "codemirror_mode": {
    "name": "ipython",
    "version": 3
   },
   "file_extension": ".py",
   "mimetype": "text/x-python",
   "name": "python",
   "nbconvert_exporter": "python",
   "pygments_lexer": "ipython3",
   "version": "3.6.3"
  }
 },
 "nbformat": 4,
 "nbformat_minor": 2
}
