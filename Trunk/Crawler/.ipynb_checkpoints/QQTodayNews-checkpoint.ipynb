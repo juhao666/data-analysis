{
 "cells": [
  {
   "cell_type": "code",
   "execution_count": 215,
   "metadata": {},
   "outputs": [],
   "source": [
    "#encoding=utf8\n",
    "from io import BytesIO,StringIO\n",
    "import urllib.request as urlrequest\n",
    "from bs4 import BeautifulSoup\n",
    "import gzip\n",
    "\n",
    "news_url = \"http://games.qq.com/\"\n",
    "crawl_context = urlrequest.urlopen(news_url).read()\n",
    "#使用crawl_context.info()查看编码格式\n",
    "html_context = crawl_context.decode('gb2312','ignore')\n",
    "soup = BeautifulSoup(html_context,'html.parser')\n",
    "all_news = soup.find_all(class_=\"pic_txt_list t_news_list\")\n",
    "#print(all_news)\n",
    "with open('data/qq_today_new.txt','w') as outputfile:\n",
    "    for each_new in all_news:\n",
    "        title = each_new.find('img')['alt']\n",
    "        link = each_new.find('a')['href']\n",
    "        try:\n",
    "            new_context = urlrequest.urlopen(link).read().decode('gb2312','ignore')\n",
    "            new_soup = BeautifulSoup(new_context,'html.parser')\n",
    "            context = new_soup.find_all(class_='Cnt-Main-Article-QQ')\n",
    "            text = []\n",
    "            if not context is None:\n",
    "                #print(context)\n",
    "                all_text = context[0].find_all('p')\n",
    "                for i in all_text:\n",
    "                    text.append(i.get_text())\n",
    "        except:\n",
    "            pass\n",
    "        outputfile.write('{} {} \\n{}\\n'.format(title,link,text))\n",
    "        "
   ]
  },
  {
   "cell_type": "code",
   "execution_count": null,
   "metadata": {
    "collapsed": true
   },
   "outputs": [],
   "source": []
  }
 ],
 "metadata": {
  "kernelspec": {
   "display_name": "Python 3",
   "language": "python",
   "name": "python3"
  },
  "language_info": {
   "codemirror_mode": {
    "name": "ipython",
    "version": 3
   },
   "file_extension": ".py",
   "mimetype": "text/x-python",
   "name": "python",
   "nbconvert_exporter": "python",
   "pygments_lexer": "ipython3",
   "version": "3.6.3"
  }
 },
 "nbformat": 4,
 "nbformat_minor": 2
}
