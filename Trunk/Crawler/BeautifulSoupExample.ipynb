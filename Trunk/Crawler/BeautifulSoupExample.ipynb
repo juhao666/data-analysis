{
 "cells": [
  {
   "cell_type": "code",
   "execution_count": 12,
   "metadata": {
    "collapsed": true
   },
   "outputs": [],
   "source": [
    "from bs4 import BeautifulSoup"
   ]
  },
  {
   "cell_type": "code",
   "execution_count": 1,
   "metadata": {},
   "outputs": [
    {
     "ename": "NameError",
     "evalue": "name 'BeautifulSoup' is not defined",
     "output_type": "error",
     "traceback": [
      "\u001b[1;31m---------------------------------------------------------------------------\u001b[0m",
      "\u001b[1;31mNameError\u001b[0m                                 Traceback (most recent call last)",
      "\u001b[1;32m<ipython-input-1-aab53c641072>\u001b[0m in \u001b[0;36m<module>\u001b[1;34m()\u001b[0m\n\u001b[0;32m      3\u001b[0m \u001b[0mweb_page\u001b[0m \u001b[1;33m=\u001b[0m \u001b[0murlrequest\u001b[0m\u001b[1;33m.\u001b[0m\u001b[0murlopen\u001b[0m\u001b[1;33m(\u001b[0m\u001b[0murl\u001b[0m\u001b[1;33m)\u001b[0m\u001b[1;33m.\u001b[0m\u001b[0mread\u001b[0m\u001b[1;33m(\u001b[0m\u001b[1;33m)\u001b[0m\u001b[1;33m\u001b[0m\u001b[0m\n\u001b[0;32m      4\u001b[0m \u001b[1;31m#print(web_page)\u001b[0m\u001b[1;33m\u001b[0m\u001b[1;33m\u001b[0m\u001b[0m\n\u001b[1;32m----> 5\u001b[1;33m \u001b[0msoup\u001b[0m \u001b[1;33m=\u001b[0m \u001b[0mBeautifulSoup\u001b[0m\u001b[1;33m(\u001b[0m\u001b[0mweb_page\u001b[0m\u001b[1;33m,\u001b[0m\u001b[1;34m'html.parser'\u001b[0m\u001b[1;33m)\u001b[0m\u001b[1;33m\u001b[0m\u001b[0m\n\u001b[0m\u001b[0;32m      6\u001b[0m \u001b[1;31m#forecast_text = soup.find(id='seven-day-forecast-container').get_text()\u001b[0m\u001b[1;33m\u001b[0m\u001b[1;33m\u001b[0m\u001b[0m\n\u001b[0;32m      7\u001b[0m \u001b[1;31m#forecast_text.split('\\n')\u001b[0m\u001b[1;33m\u001b[0m\u001b[1;33m\u001b[0m\u001b[0m\n",
      "\u001b[1;31mNameError\u001b[0m: name 'BeautifulSoup' is not defined"
     ]
    }
   ],
   "source": [
    "import urllib.request as urlrequest\n",
    "url = 'http://forecast.weather.gov/MapClick.php?lat=37.777120000000025&lon=-122.41963999999996'\n",
    "web_page = urlrequest.urlopen(url).read()\n",
    "#print(web_page)\n",
    "soup = BeautifulSoup(web_page,'html.parser')\n",
    "#forecast_text = soup.find(id='seven-day-forecast-container').get_text()\n",
    "#forecast_text.split('\\n')\n",
    "\n",
    "#forecast_text = soup.find(id='seven-day-forecast-container').prettify()\n",
    "#print(forecast_text)\n",
    "\n",
    "forecast_text = soup.find(id='seven-day-forecast-container')\n",
    "date_list = forecast_text.find_all(class_='period-name')\n",
    "desc_list = forecast_text.find_all(class_='short-desc')\n",
    "temp_list = forecast_text.find_all(class_='temp')\n",
    "\n",
    "for i in range(9):\n",
    "    date = date_list[i].get_text()\n",
    "    desc = desc_list[i].get_text()\n",
    "    temp = temp_list[i].get_text()\n",
    "    print('{} {} {}'.format(date,desc,temp))\n",
    "    \n",
    "\n"
   ]
  }
 ],
 "metadata": {
  "kernelspec": {
   "display_name": "Python 3",
   "language": "python",
   "name": "python3"
  },
  "language_info": {
   "codemirror_mode": {
    "name": "ipython",
    "version": 3
   },
   "file_extension": ".py",
   "mimetype": "text/x-python",
   "name": "python",
   "nbconvert_exporter": "python",
   "pygments_lexer": "ipython3",
   "version": "3.6.3"
  }
 },
 "nbformat": 4,
 "nbformat_minor": 2
}
